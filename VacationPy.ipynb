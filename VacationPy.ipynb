{
 "cells": [
  {
   "cell_type": "markdown",
   "metadata": {},
   "source": [
    "# VacationPy\n",
    "----\n",
    "\n",
    "#### Note\n",
    "* Keep an eye on your API usage. Use https://developers.google.com/maps/reporting/gmp-reporting as reference for how to monitor your usage and billing.\n",
    "\n",
    "* Instructions have been included for each segment. You do not have to follow them exactly, but they are included to help you think through the steps."
   ]
  },
  {
   "cell_type": "code",
   "execution_count": 2,
   "metadata": {},
   "outputs": [],
   "source": [
    "# Dependencies and Setup\n",
    "import matplotlib.pyplot as plt\n",
    "import pandas as pd\n",
    "import numpy as np\n",
    "import requests\n",
    "import gmaps\n",
    "import os\n",
    "\n",
    "from dotenv import load_dotenv\n",
    "import os\n",
    "import json\n",
    "from pprint import pprint\n",
    "load_dotenv()\n",
    "API_KEY=os.getenv('google_api_key')\n",
    "\n",
    "# Import API key\n",
    "#from api_keys import g_key"
   ]
  },
  {
   "cell_type": "markdown",
   "metadata": {},
   "source": [
    "### Store Part I results into DataFrame\n",
    "* Load the csv exported in Part I to a DataFrame"
   ]
  },
  {
   "cell_type": "code",
   "execution_count": 3,
   "metadata": {},
   "outputs": [
    {
     "data": {
      "text/html": [
       "<div>\n",
       "<style scoped>\n",
       "    .dataframe tbody tr th:only-of-type {\n",
       "        vertical-align: middle;\n",
       "    }\n",
       "\n",
       "    .dataframe tbody tr th {\n",
       "        vertical-align: top;\n",
       "    }\n",
       "\n",
       "    .dataframe thead th {\n",
       "        text-align: right;\n",
       "    }\n",
       "</style>\n",
       "<table border=\"1\" class=\"dataframe\">\n",
       "  <thead>\n",
       "    <tr style=\"text-align: right;\">\n",
       "      <th></th>\n",
       "      <th>Unnamed: 0</th>\n",
       "      <th>city</th>\n",
       "      <th>lattitude</th>\n",
       "      <th>longitude</th>\n",
       "      <th>max_temp</th>\n",
       "      <th>humidity</th>\n",
       "      <th>cloudiness</th>\n",
       "      <th>wind_speed</th>\n",
       "      <th>country</th>\n",
       "      <th>date</th>\n",
       "    </tr>\n",
       "  </thead>\n",
       "  <tbody>\n",
       "    <tr>\n",
       "      <th>0</th>\n",
       "      <td>0</td>\n",
       "      <td>Arraial do Cabo</td>\n",
       "      <td>-22.9661</td>\n",
       "      <td>-42.0278</td>\n",
       "      <td>73.36</td>\n",
       "      <td>88</td>\n",
       "      <td>75</td>\n",
       "      <td>16.11</td>\n",
       "      <td>BR</td>\n",
       "      <td>1630064268</td>\n",
       "    </tr>\n",
       "    <tr>\n",
       "      <th>1</th>\n",
       "      <td>1</td>\n",
       "      <td>Pevek</td>\n",
       "      <td>69.7008</td>\n",
       "      <td>170.3133</td>\n",
       "      <td>38.52</td>\n",
       "      <td>75</td>\n",
       "      <td>100</td>\n",
       "      <td>8.90</td>\n",
       "      <td>RU</td>\n",
       "      <td>1630064269</td>\n",
       "    </tr>\n",
       "    <tr>\n",
       "      <th>2</th>\n",
       "      <td>2</td>\n",
       "      <td>Poum</td>\n",
       "      <td>-20.2333</td>\n",
       "      <td>164.0167</td>\n",
       "      <td>73.94</td>\n",
       "      <td>78</td>\n",
       "      <td>56</td>\n",
       "      <td>14.07</td>\n",
       "      <td>NC</td>\n",
       "      <td>1630064269</td>\n",
       "    </tr>\n",
       "    <tr>\n",
       "      <th>3</th>\n",
       "      <td>3</td>\n",
       "      <td>Tasiilaq</td>\n",
       "      <td>65.6145</td>\n",
       "      <td>-37.6368</td>\n",
       "      <td>50.16</td>\n",
       "      <td>97</td>\n",
       "      <td>100</td>\n",
       "      <td>9.64</td>\n",
       "      <td>GL</td>\n",
       "      <td>1630064269</td>\n",
       "    </tr>\n",
       "    <tr>\n",
       "      <th>4</th>\n",
       "      <td>4</td>\n",
       "      <td>Vila Franca do Campo</td>\n",
       "      <td>37.7167</td>\n",
       "      <td>-25.4333</td>\n",
       "      <td>70.21</td>\n",
       "      <td>86</td>\n",
       "      <td>94</td>\n",
       "      <td>11.12</td>\n",
       "      <td>PT</td>\n",
       "      <td>1630064270</td>\n",
       "    </tr>\n",
       "    <tr>\n",
       "      <th>...</th>\n",
       "      <td>...</td>\n",
       "      <td>...</td>\n",
       "      <td>...</td>\n",
       "      <td>...</td>\n",
       "      <td>...</td>\n",
       "      <td>...</td>\n",
       "      <td>...</td>\n",
       "      <td>...</td>\n",
       "      <td>...</td>\n",
       "      <td>...</td>\n",
       "    </tr>\n",
       "    <tr>\n",
       "      <th>571</th>\n",
       "      <td>571</td>\n",
       "      <td>Shīeli</td>\n",
       "      <td>44.1667</td>\n",
       "      <td>66.7500</td>\n",
       "      <td>97.79</td>\n",
       "      <td>11</td>\n",
       "      <td>27</td>\n",
       "      <td>9.78</td>\n",
       "      <td>KZ</td>\n",
       "      <td>1630064461</td>\n",
       "    </tr>\n",
       "    <tr>\n",
       "      <th>572</th>\n",
       "      <td>572</td>\n",
       "      <td>New Glasgow</td>\n",
       "      <td>45.5834</td>\n",
       "      <td>-62.6486</td>\n",
       "      <td>72.10</td>\n",
       "      <td>83</td>\n",
       "      <td>3</td>\n",
       "      <td>8.55</td>\n",
       "      <td>CA</td>\n",
       "      <td>1630064462</td>\n",
       "    </tr>\n",
       "    <tr>\n",
       "      <th>573</th>\n",
       "      <td>573</td>\n",
       "      <td>Phan Thiet</td>\n",
       "      <td>10.9333</td>\n",
       "      <td>108.1000</td>\n",
       "      <td>77.65</td>\n",
       "      <td>87</td>\n",
       "      <td>98</td>\n",
       "      <td>3.40</td>\n",
       "      <td>VN</td>\n",
       "      <td>1630064462</td>\n",
       "    </tr>\n",
       "    <tr>\n",
       "      <th>574</th>\n",
       "      <td>574</td>\n",
       "      <td>Nur-Sultan</td>\n",
       "      <td>51.1801</td>\n",
       "      <td>71.4460</td>\n",
       "      <td>85.95</td>\n",
       "      <td>23</td>\n",
       "      <td>0</td>\n",
       "      <td>11.18</td>\n",
       "      <td>KZ</td>\n",
       "      <td>1630064462</td>\n",
       "    </tr>\n",
       "    <tr>\n",
       "      <th>575</th>\n",
       "      <td>575</td>\n",
       "      <td>Preobrazheniye</td>\n",
       "      <td>42.9019</td>\n",
       "      <td>133.9064</td>\n",
       "      <td>69.04</td>\n",
       "      <td>78</td>\n",
       "      <td>99</td>\n",
       "      <td>7.20</td>\n",
       "      <td>RU</td>\n",
       "      <td>1630064463</td>\n",
       "    </tr>\n",
       "  </tbody>\n",
       "</table>\n",
       "<p>576 rows × 10 columns</p>\n",
       "</div>"
      ],
      "text/plain": [
       "     Unnamed: 0                  city  lattitude  longitude  max_temp  \\\n",
       "0             0       Arraial do Cabo   -22.9661   -42.0278     73.36   \n",
       "1             1                 Pevek    69.7008   170.3133     38.52   \n",
       "2             2                  Poum   -20.2333   164.0167     73.94   \n",
       "3             3              Tasiilaq    65.6145   -37.6368     50.16   \n",
       "4             4  Vila Franca do Campo    37.7167   -25.4333     70.21   \n",
       "..          ...                   ...        ...        ...       ...   \n",
       "571         571                Shīeli    44.1667    66.7500     97.79   \n",
       "572         572           New Glasgow    45.5834   -62.6486     72.10   \n",
       "573         573            Phan Thiet    10.9333   108.1000     77.65   \n",
       "574         574            Nur-Sultan    51.1801    71.4460     85.95   \n",
       "575         575        Preobrazheniye    42.9019   133.9064     69.04   \n",
       "\n",
       "     humidity  cloudiness  wind_speed country        date  \n",
       "0          88          75       16.11      BR  1630064268  \n",
       "1          75         100        8.90      RU  1630064269  \n",
       "2          78          56       14.07      NC  1630064269  \n",
       "3          97         100        9.64      GL  1630064269  \n",
       "4          86          94       11.12      PT  1630064270  \n",
       "..        ...         ...         ...     ...         ...  \n",
       "571        11          27        9.78      KZ  1630064461  \n",
       "572        83           3        8.55      CA  1630064462  \n",
       "573        87          98        3.40      VN  1630064462  \n",
       "574        23           0       11.18      KZ  1630064462  \n",
       "575        78          99        7.20      RU  1630064463  \n",
       "\n",
       "[576 rows x 10 columns]"
      ]
     },
     "execution_count": 3,
     "metadata": {},
     "output_type": "execute_result"
    }
   ],
   "source": [
    "vacationdf=pd.read_csv('weatherdf.csv')\n",
    "vacationdf"
   ]
  },
  {
   "cell_type": "markdown",
   "metadata": {},
   "source": [
    "### Humidity Heatmap\n",
    "* Configure gmaps.\n",
    "* Use the Lat and Lng as locations and Humidity as the weight.\n",
    "* Add Heatmap layer to map."
   ]
  },
  {
   "cell_type": "code",
   "execution_count": 11,
   "metadata": {},
   "outputs": [
    {
     "data": {
      "application/vnd.jupyter.widget-view+json": {
       "model_id": "4d8499d464824f2eb9247a7f8cdbf7be",
       "version_major": 2,
       "version_minor": 0
      },
      "text/plain": [
       "Figure(layout=FigureLayout(height='420px'))"
      ]
     },
     "metadata": {},
     "output_type": "display_data"
    }
   ],
   "source": [
    "gmaps.configure(API_KEY)\n",
    "humidity=vacationdf['humidity'].astype(float)\n",
    "max_humidity=humidity.max()\n",
    "city=vacationdf[['lattitude','longitude']]\n",
    "fig=gmaps.figure(center=(0.0,0.0),zoom_level=2)\n",
    "heat_layer=gmaps.heatmap_layer(city,weights=humidity,max_intensity=max_humidity,dissipating=False,point_radius=3)\n",
    "fig.add_layer(heat_layer)\n",
    "fig"
   ]
  },
  {
   "cell_type": "code",
   "execution_count": 10,
   "metadata": {},
   "outputs": [
    {
     "data": {
      "text/plain": [
       "lattitude    576\n",
       "longitude    576\n",
       "dtype: int64"
      ]
     },
     "execution_count": 10,
     "metadata": {},
     "output_type": "execute_result"
    }
   ],
   "source": [
    "city.count()"
   ]
  },
  {
   "cell_type": "markdown",
   "metadata": {},
   "source": [
    "### Create new DataFrame fitting weather criteria\n",
    "* Narrow down the cities to fit weather conditions.\n",
    "* Drop any rows will null values."
   ]
  },
  {
   "cell_type": "code",
   "execution_count": null,
   "metadata": {},
   "outputs": [],
   "source": []
  },
  {
   "cell_type": "markdown",
   "metadata": {},
   "source": [
    "### Hotel Map\n",
    "* Store into variable named `hotel_df`.\n",
    "* Add a \"Hotel Name\" column to the DataFrame.\n",
    "* Set parameters to search for hotels with 5000 meters.\n",
    "* Hit the Google Places API for each city's coordinates.\n",
    "* Store the first Hotel result into the DataFrame.\n",
    "* Plot markers on top of the heatmap."
   ]
  },
  {
   "cell_type": "code",
   "execution_count": null,
   "metadata": {},
   "outputs": [],
   "source": []
  },
  {
   "cell_type": "code",
   "execution_count": null,
   "metadata": {},
   "outputs": [],
   "source": []
  },
  {
   "cell_type": "code",
   "execution_count": null,
   "metadata": {},
   "outputs": [],
   "source": [
    "# NOTE: Do not change any of the code in this cell\n",
    "\n",
    "# Using the template add the hotel marks to the heatmap\n",
    "info_box_template = \"\"\"\n",
    "<dl>\n",
    "<dt>Name</dt><dd>{Hotel Name}</dd>\n",
    "<dt>City</dt><dd>{City}</dd>\n",
    "<dt>Country</dt><dd>{Country}</dd>\n",
    "</dl>\n",
    "\"\"\"\n",
    "# Store the DataFrame Row\n",
    "# NOTE: be sure to update with your DataFrame name\n",
    "hotel_info = [info_box_template.format(**row) for index, row in hotel_df.iterrows()]\n",
    "locations = hotel_df[[\"Lat\", \"Lng\"]]"
   ]
  },
  {
   "cell_type": "code",
   "execution_count": null,
   "metadata": {},
   "outputs": [],
   "source": [
    "# Add marker layer ontop of heat map\n",
    "\n",
    "\n",
    "# Display figure\n"
   ]
  },
  {
   "cell_type": "code",
   "execution_count": null,
   "metadata": {},
   "outputs": [],
   "source": []
  }
 ],
 "metadata": {
  "kernelspec": {
   "display_name": "Python 3",
   "language": "python",
   "name": "python3"
  },
  "language_info": {
   "codemirror_mode": {
    "name": "ipython",
    "version": 3
   },
   "file_extension": ".py",
   "mimetype": "text/x-python",
   "name": "python",
   "nbconvert_exporter": "python",
   "pygments_lexer": "ipython3",
   "version": "3.7.1"
  },
  "latex_envs": {
   "LaTeX_envs_menu_present": true,
   "autoclose": false,
   "autocomplete": true,
   "bibliofile": "biblio.bib",
   "cite_by": "apalike",
   "current_citInitial": 1,
   "eqLabelWithNumbers": true,
   "eqNumInitial": 1,
   "hotkeys": {
    "equation": "Ctrl-E",
    "itemize": "Ctrl-I"
   },
   "labels_anchors": false,
   "latex_user_defs": false,
   "report_style_numbering": false,
   "user_envs_cfg": false
  }
 },
 "nbformat": 4,
 "nbformat_minor": 4
}
